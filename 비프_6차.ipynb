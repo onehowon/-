{
  "nbformat": 4,
  "nbformat_minor": 0,
  "metadata": {
    "colab": {
      "name": "비프 6차",
      "provenance": [],
      "authorship_tag": "ABX9TyM3zbfzGkWQRKgkT712ZuD9",
      "include_colab_link": true
    },
    "kernelspec": {
      "name": "python3",
      "display_name": "Python 3"
    },
    "language_info": {
      "name": "python"
    }
  },
  "cells": [
    {
      "cell_type": "markdown",
      "metadata": {
        "id": "view-in-github",
        "colab_type": "text"
      },
      "source": [
        "<a href=\"https://colab.research.google.com/github/onehowon/-/blob/master/%EB%B9%84%ED%94%84_6%EC%B0%A8.ipynb\" target=\"_parent\"><img src=\"https://colab.research.google.com/assets/colab-badge.svg\" alt=\"Open In Colab\"/></a>"
      ]
    },
    {
      "cell_type": "code",
      "metadata": {
        "id": "llLBY0WUxX5E"
      },
      "source": [
        "import math\n",
        "\n",
        "def localadd():\n",
        "  A = int(input(\"A 정당의 지역구 의석 수를 입력하십시오: \"))\n",
        "  B = int(input(\"B 정당의 지역구 의석 수를 입력하십시오: \"))\n",
        "  C = int(input(\"C 정당의 지역구 의석 수를 입력하십시오: \"))\n",
        "  D = 253 - (A+B+C)\n",
        "  print(\"D는 %d 석입니다.\" %D)\n",
        "  return A,B,C,D\n",
        "\n",
        "def peradd():\n",
        "  A_per = float(input(\"A 정당의 지지율을 입력해주세요: \"))\n",
        "  B_per = float(input(\"B 정당의 지지율을 입력해주세요: \"))\n",
        "  C_per = float(input(\"C 정당의 지지율을 입력해주세요: \"))\n",
        "  D_per = 100 - (A_per + B_per + C_per)\n",
        "  print(\"D 정당 지지율은 %f 퍼센트입니다.\" %D_per)\n",
        "  return(A_per, B_per, C_per, D_per)"
      ],
      "execution_count": 1,
      "outputs": []
    },
    {
      "cell_type": "code",
      "metadata": {
        "colab": {
          "base_uri": "https://localhost:8080/"
        },
        "id": "HWMo3dSnyK1J",
        "outputId": "817b6195-ba25-4e06-fbd5-30b4a3ca967e"
      },
      "source": [
        "A,B,C,D = localadd()\n",
        "A_per,B_per,C_per,D_per = peradd()"
      ],
      "execution_count": 2,
      "outputs": [
        {
          "output_type": "stream",
          "name": "stdout",
          "text": [
            "A 정당의 지역구 의석 수를 입력하십시오: 60\n",
            "B 정당의 지역구 의석 수를 입력하십시오: 70\n",
            "C 정당의 지역구 의석 수를 입력하십시오: 60\n",
            "D는 63 석입니다.\n",
            "A 정당의 지지율을 입력해주세요: 15\n",
            "B 정당의 지지율을 입력해주세요: 30\n",
            "C 정당의 지지율을 입력해주세요: 25\n",
            "D 정당 지지율은 30.000000 퍼센트입니다.\n"
          ]
        }
      ]
    },
    {
      "cell_type": "code",
      "metadata": {
        "id": "bs8cE_aAzHwB"
      },
      "source": [
        "local_seat = [A,B,C,D]\n",
        "percentage = [A_per, B_per, C_per, D_per]\n",
        "semi_seat = []\n",
        "para_seat = []\n",
        "total_seat = []"
      ],
      "execution_count": 3,
      "outputs": []
    },
    {
      "cell_type": "code",
      "metadata": {
        "id": "wo7U64LEzSYI"
      },
      "source": [
        "def semiadd(localseat, per): # 준 연동형 좌석 구하기\n",
        "  total = 300\n",
        "  calc = ((total *(per/100) - localseat)) / 2\n",
        "  if calc < 0:\n",
        "    calc = 0\n",
        "  return calc\n",
        "\n",
        "def parallel(per): # 병립형 좌석 구하기\n",
        "  total = 17\n",
        "  parallel_seat = round(total * (per / 100))\n",
        "  if parallel_seat < 0:\n",
        "    parallel_seat = 0\n",
        "  return parallel_seat"
      ],
      "execution_count": 4,
      "outputs": []
    },
    {
      "cell_type": "code",
      "metadata": {
        "colab": {
          "base_uri": "https://localhost:8080/"
        },
        "id": "5ssI9YjF0M6Y",
        "outputId": "a9b685f2-f064-46a3-9792-f13486edcae7"
      },
      "source": [
        "for i in range(4):\n",
        "  semi_seat.append(semiadd(local_seat[i], percentage[i]))\n",
        "\n",
        "semi_sum = semi_seat[0] + semi_seat[1] + semi_seat[2] + semi_seat[3]\n",
        "\n",
        "for i in range(4):\n",
        "  semi_seat[i] = round(semi_seat[i] / semi_sum * 30)\n",
        "\n",
        "for i in range(4):\n",
        "  para_seat.append(parallel(percentage[i]))\n",
        "  total_seat.append(para_seat[i] + semi_seat[i] + local_seat[i])\n",
        "\n",
        "print(\"A 좌석의 최종 좌석 수는 %d석 입니다.\" %total_seat[0])\n",
        "print(\"B 좌석의 최종 좌석 수는 %d석 입니다.\" %total_seat[1])\n",
        "print(\"C 좌석의 최종 좌석 수는 %d석 입니다.\" %total_seat[2])\n",
        "print(\"D 좌석의 최종 좌석 수는 %d석 입니다.\" %total_seat[3])"
      ],
      "execution_count": 5,
      "outputs": [
        {
          "output_type": "stream",
          "name": "stdout",
          "text": [
            "A 좌석의 최종 좌석 수는 63석 입니다.\n",
            "B 좌석의 최종 좌석 수는 85석 입니다.\n",
            "C 좌석의 최종 좌석 수는 71석 입니다.\n",
            "D 좌석의 최종 좌석 수는 81석 입니다.\n"
          ]
        }
      ]
    }
  ]
}